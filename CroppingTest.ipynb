{
 "cells": [
  {
   "cell_type": "code",
   "execution_count": 6,
   "id": "bb07e47e",
   "metadata": {},
   "outputs": [],
   "source": [
    "from PIL import Image\n",
    "import os\n",
    "import numpy as np"
   ]
  },
  {
   "cell_type": "markdown",
   "id": "30d4219b",
   "metadata": {},
   "source": [
    "## Set where image is saved"
   ]
  },
  {
   "cell_type": "code",
   "execution_count": 7,
   "id": "3cab2602",
   "metadata": {},
   "outputs": [],
   "source": [
    "def save_to(save = \"locally\"):\n",
    "  if save == \"colab\":\n",
    "    from google.colab import drive\n",
    "    drive.mount('/content/drive')\n",
    "    %cd drive/MyDrive/Colab Notebooks/drones\n",
    "  elif save == \"ssd\":\n",
    "    os.chdir(\"D:/GanNoMask\")\n",
    "\n",
    "save_to(\"ssd\")"
   ]
  },
  {
   "cell_type": "markdown",
   "id": "cac7244f",
   "metadata": {},
   "source": [
    "## Crop the image to square"
   ]
  },
  {
   "cell_type": "code",
   "execution_count": 8,
   "id": "761b0203",
   "metadata": {},
   "outputs": [],
   "source": [
    "h = 3024 #Select the maximum available square dimension\n",
    "im = Image.open(\"C:/Users/romat/Desktop/somefolder/IMG_2120.png\")\n",
    "im = im.crop((0, 0, h, h))"
   ]
  },
  {
   "cell_type": "markdown",
   "id": "9dd5b0b8",
   "metadata": {},
   "source": [
    "## Resize the image"
   ]
  },
  {
   "cell_type": "code",
   "execution_count": 9,
   "id": "425adb9e",
   "metadata": {},
   "outputs": [],
   "source": [
    "h = 445 #Match the output dimension of the Unet plus 8 to compensate for filtering\n",
    "im = im.resize((h, h))"
   ]
  },
  {
   "cell_type": "markdown",
   "id": "daf5b933",
   "metadata": {},
   "source": [
    "## Turn the image to grayscale"
   ]
  },
  {
   "cell_type": "code",
   "execution_count": 10,
   "id": "cffe5854",
   "metadata": {},
   "outputs": [],
   "source": [
    "im.convert('L').save(\"greytest.png\")"
   ]
  },
  {
   "cell_type": "code",
   "execution_count": null,
   "id": "af2c97a1",
   "metadata": {},
   "outputs": [],
   "source": []
  }
 ],
 "metadata": {
  "kernelspec": {
   "display_name": "Python 3",
   "language": "python",
   "name": "python3"
  },
  "language_info": {
   "codemirror_mode": {
    "name": "ipython",
    "version": 3
   },
   "file_extension": ".py",
   "mimetype": "text/x-python",
   "name": "python",
   "nbconvert_exporter": "python",
   "pygments_lexer": "ipython3",
   "version": "3.7.10"
  }
 },
 "nbformat": 4,
 "nbformat_minor": 5
}
