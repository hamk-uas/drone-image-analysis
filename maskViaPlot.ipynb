{
 "cells": [
  {
   "cell_type": "markdown",
   "metadata": {},
   "source": [
    "## Display the sample image and import the .json file with labels."
   ]
  },
  {
   "cell_type": "code",
   "execution_count": null,
   "metadata": {},
   "outputs": [],
   "source": [
    "from IPython.display import Image\n",
    "Image(filename=\"labeling_project/upload/image.png\") "
   ]
  },
  {
   "cell_type": "code",
   "execution_count": null,
   "metadata": {},
   "outputs": [],
   "source": [
    "import shapely.geometry as sg\n",
    "import shapely.ops as so\n",
    "import matplotlib.pyplot as plt\n",
    "import numpy as np"
   ]
  },
  {
   "cell_type": "code",
   "execution_count": null,
   "metadata": {},
   "outputs": [],
   "source": [
    "import json\n",
    "with open('result.json') as json_file: \n",
    "    data = json.load(json_file)\n",
    "# Unwrapping json\n",
    "data = (data[0][\"completions\"][0][\"result\"])"
   ]
  },
  {
   "cell_type": "markdown",
   "metadata": {},
   "source": [
    "## Plot the labels via multipolygons.\n",
    "Create polygons and append them to the respective lists of polygons. Create multipolygons and plot them in desired order and colors."
   ]
  },
  {
   "cell_type": "code",
   "execution_count": null,
   "metadata": {},
   "outputs": [],
   "source": [
    "collection1 = []\n",
    "collection2 = []\n",
    "collection3 = []\n",
    "k = 0\n",
    "while k < len(data):    \n",
    "    def convert(list): \n",
    "        return tuple(list)\n",
    "    coordinates_tupled = []\n",
    "    coordinates = (data[k][\"value\"][\"points\"])\n",
    "    for i in coordinates:\n",
    "        coordinates_tupled.append(convert(i))\n",
    "    if data[k][\"value\"][\"polygonlabels\"][0] == \"Ignore\":\n",
    "        collection1.append(sg.Polygon(coordinates_tupled))\n",
    "    elif data[k][\"value\"][\"polygonlabels\"][0] == \"Vegetation\":\n",
    "        collection2.append(sg.Polygon(coordinates_tupled))\n",
    "    elif data[k][\"value\"][\"polygonlabels\"][0] == \"Soil\":\n",
    "        collection3.append(sg.Polygon(coordinates_tupled))\n",
    "    k = k + 1"
   ]
  },
  {
   "cell_type": "code",
   "execution_count": null,
   "metadata": {},
   "outputs": [],
   "source": [
    "# Assigning lists of polygons to multipolygons\n",
    "new_shape1 = sg.MultiPolygon(collection1)\n",
    "new_shape2 = sg.MultiPolygon(collection2)\n",
    "new_shape3 = sg.MultiPolygon(collection3)\n",
    "\n",
    "fig, axs = plt.subplots()\n",
    "axs.set_aspect('equal')\n",
    "\n",
    "# Plotting multipolygons with colors depending on their labels\n",
    "\n",
    "for geom in new_shape1.geoms:    \n",
    "    xs, ys = geom.exterior.xy    \n",
    "    axs.fill(xs, 100-np.array(ys), alpha=1, fc='magenta', ec='none', antialiased = False)\n",
    "    \n",
    "for geom in new_shape2.geoms:    \n",
    "    xs, ys = geom.exterior.xy    \n",
    "    axs.fill(xs, 100-np.array(ys), alpha=1, fc='green', ec='none', antialiased = False)\n",
    "    \n",
    "for geom in new_shape3.geoms:    \n",
    "    xs, ys = geom.exterior.xy    \n",
    "    axs.fill(xs, 100-np.array(ys), alpha=1, fc='brown', ec='none', antialiased = False)\n",
    "    \n",
    "plt.xlim([0, 100])\n",
    "plt.ylim([0, 100])\n",
    "plt.plot(antialiased=False)\n",
    "plt.show()"
   ]
  }
 ],
 "metadata": {
  "kernelspec": {
   "display_name": "Python 3",
   "language": "python",
   "name": "python3"
  },
  "language_info": {
   "codemirror_mode": {
    "name": "ipython",
    "version": 3
   },
   "file_extension": ".py",
   "mimetype": "text/x-python",
   "name": "python",
   "nbconvert_exporter": "python",
   "pygments_lexer": "ipython3",
   "version": "3.8.5"
  }
 },
 "nbformat": 4,
 "nbformat_minor": 5
}
