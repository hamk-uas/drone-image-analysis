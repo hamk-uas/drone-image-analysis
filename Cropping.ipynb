{
 "cells": [
  {
   "cell_type": "code",
   "execution_count": 11,
   "id": "bb07e47e",
   "metadata": {},
   "outputs": [],
   "source": [
    "from PIL import Image\n",
    "import os"
   ]
  },
  {
   "cell_type": "code",
   "execution_count": 12,
   "id": "b1157608",
   "metadata": {},
   "outputs": [],
   "source": [
    "imdir = \"C:/Users/romat/Desktop/somefolder\""
   ]
  },
  {
   "cell_type": "code",
   "execution_count": 13,
   "id": "761b0203",
   "metadata": {},
   "outputs": [],
   "source": [
    "number = 0\n",
    "h = 768\n",
    "for image in os.listdir(imdir):\n",
    "  im = Image.open(imdir + \"/\" + str(image))\n",
    "  for rotation in range(1, 4):\n",
    "    im = im.rotate(angle = 90, expand = True)\n",
    "    imgwidth, imgheight = im.size\n",
    "    x = int(imgwidth / h)\n",
    "    y = int(imgheight / h)\n",
    "    for i in range(0, y):\n",
    "      for j in range(0, x):\n",
    "        name = str(number).zfill(6)\n",
    "        im.crop((j * h, i * h, (j + 1) * h, (i + 1) * h)).save(\"C:/Users/romat/Desktop/convphotos/\" + name + \".png\")\n",
    "        number += 1"
   ]
  },
  {
   "cell_type": "code",
   "execution_count": 14,
   "id": "77bbc229",
   "metadata": {},
   "outputs": [],
   "source": [
    "imdir = \"C:/Users/romat/Desktop/convphotos\""
   ]
  },
  {
   "cell_type": "code",
   "execution_count": 15,
   "id": "425adb9e",
   "metadata": {},
   "outputs": [],
   "source": [
    "number = 0\n",
    "h = 256\n",
    "for image in os.listdir(imdir):\n",
    "  im = Image.open(imdir + \"/\" + str(image))\n",
    "  name = str(number).zfill(6)\n",
    "  im.resize((h, h)).save(\"C:/Users/romat/Desktop/another/\" + name + \".png\")\n",
    "  number += 1"
   ]
  },
  {
   "cell_type": "code",
   "execution_count": null,
   "id": "ec203833",
   "metadata": {},
   "outputs": [],
   "source": []
  }
 ],
 "metadata": {
  "kernelspec": {
   "display_name": "Python 3",
   "language": "python",
   "name": "python3"
  },
  "language_info": {
   "codemirror_mode": {
    "name": "ipython",
    "version": 3
   },
   "file_extension": ".py",
   "mimetype": "text/x-python",
   "name": "python",
   "nbconvert_exporter": "python",
   "pygments_lexer": "ipython3",
   "version": "3.7.10"
  }
 },
 "nbformat": 4,
 "nbformat_minor": 5
}
