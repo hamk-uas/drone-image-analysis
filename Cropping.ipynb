{
 "cells": [
  {
   "cell_type": "code",
   "execution_count": 52,
   "id": "bb07e47e",
   "metadata": {},
   "outputs": [],
   "source": [
    "from PIL import Image\n",
    "import os"
   ]
  },
  {
   "cell_type": "code",
   "execution_count": 53,
   "id": "b1157608",
   "metadata": {},
   "outputs": [],
   "source": [
    "imdir = \"C:/Users/romat/Desktop/convphotos\""
   ]
  },
  {
   "cell_type": "code",
   "execution_count": 54,
   "id": "761b0203",
   "metadata": {},
   "outputs": [],
   "source": [
    "number = 0\n",
    "for image in os.listdir(imdir):\n",
    "  im = Image.open(imdir + \"/\" + str(image))\n",
    "  imgwidth, imgheight = im.size\n",
    "  h = 256\n",
    "  for i in range(0, 15):\n",
    "    for j in range(0, 11):\n",
    "      name = str(number).zfill(6)\n",
    "      im.crop((j * h, i * h, (j + 1) * h, (i + 1) * h)).save(\"C:/Users/romat/Desktop/yeet/\" + name + \".png\")\n",
    "      number += 1"
   ]
  }
 ],
 "metadata": {
  "kernelspec": {
   "display_name": "Python 3",
   "language": "python",
   "name": "python3"
  },
  "language_info": {
   "codemirror_mode": {
    "name": "ipython",
    "version": 3
   },
   "file_extension": ".py",
   "mimetype": "text/x-python",
   "name": "python",
   "nbconvert_exporter": "python",
   "pygments_lexer": "ipython3",
   "version": "3.7.10"
  }
 },
 "nbformat": 4,
 "nbformat_minor": 5
}
