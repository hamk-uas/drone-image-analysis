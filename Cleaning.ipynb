{
 "cells": [
  {
   "cell_type": "code",
   "execution_count": 4,
   "id": "10e5baf4",
   "metadata": {},
   "outputs": [],
   "source": [
    "import os"
   ]
  },
  {
   "cell_type": "code",
   "execution_count": 9,
   "id": "26e06269",
   "metadata": {},
   "outputs": [
    {
     "data": {
      "text/plain": [
       "'C:\\\\Users\\\\romat\\\\Documents\\\\GitHub\\\\drone-image-analysis\\\\logs\\\\fit'"
      ]
     },
     "execution_count": 9,
     "metadata": {},
     "output_type": "execute_result"
    }
   ],
   "source": [
    "%pwd"
   ]
  },
  {
   "cell_type": "code",
   "execution_count": 16,
   "id": "444daa59",
   "metadata": {},
   "outputs": [],
   "source": [
    "location = \"C:/Users/romat/Documents/GitHub/drone-image-analysis/logs/fit/\""
   ]
  },
  {
   "cell_type": "code",
   "execution_count": 20,
   "id": "2bac0470",
   "metadata": {},
   "outputs": [
    {
     "name": "stdout",
     "output_type": "stream",
     "text": [
      "32768\n"
     ]
    }
   ],
   "source": [
    "print(os.path.getsize(location))"
   ]
  },
  {
   "cell_type": "code",
   "execution_count": 25,
   "id": "af1259b0",
   "metadata": {},
   "outputs": [
    {
     "name": "stdout",
     "output_type": "stream",
     "text": [
      "['events.out.tfevents.1623055328.LAPTOP-25E4K025.2548.3236.v2']\n",
      "C:/Users/romat/Documents/GitHub/drone-image-analysis/logs/fit/20210607-114208/\n",
      "['events.out.tfevents.1623057185.LAPTOP-25E4K025.14124.6868.v2']\n",
      "C:/Users/romat/Documents/GitHub/drone-image-analysis/logs/fit/20210607-121305/\n",
      "['events.out.tfevents.1623068860.LAPTOP-25E4K025.14124.51970.v2']\n",
      "C:/Users/romat/Documents/GitHub/drone-image-analysis/logs/fit/20210607-152740/\n",
      "['events.out.tfevents.1623145459.LAPTOP-25E4K025.12992.28835.v2']\n",
      "C:/Users/romat/Documents/GitHub/drone-image-analysis/logs/fit/20210608-124419/\n",
      "['events.out.tfevents.1623145865.LAPTOP-25E4K025.12992.77187.v2']\n",
      "C:/Users/romat/Documents/GitHub/drone-image-analysis/logs/fit/20210608-125105/\n",
      "['events.out.tfevents.1623146739.LAPTOP-25E4K025.12992.124926.v2']\n",
      "C:/Users/romat/Documents/GitHub/drone-image-analysis/logs/fit/20210608-130539/\n",
      "['events.out.tfevents.1623225200.LAPTOP-25E4K025.14372.22415.v2']\n",
      "C:/Users/romat/Documents/GitHub/drone-image-analysis/logs/fit/20210609-105320/\n",
      "['events.out.tfevents.1623226116.LAPTOP-25E4K025.14372.40819.v2']\n",
      "C:/Users/romat/Documents/GitHub/drone-image-analysis/logs/fit/20210609-110836/\n",
      "['events.out.tfevents.1623229991.LAPTOP-25E4K025.14372.98298.v2']\n",
      "C:/Users/romat/Documents/GitHub/drone-image-analysis/logs/fit/20210609-121311/\n",
      "['events.out.tfevents.1623230554.LAPTOP-25E4K025.14372.153792.v2']\n",
      "C:/Users/romat/Documents/GitHub/drone-image-analysis/logs/fit/20210609-122234/\n",
      "['events.out.tfevents.1623241418.LAPTOP-25E4K025.8420.3236.v2']\n",
      "C:/Users/romat/Documents/GitHub/drone-image-analysis/logs/fit/20210609-152338/\n",
      "['events.out.tfevents.1623408243.LAPTOP-25E4K025.13588.4050.v2']\n",
      "C:/Users/romat/Documents/GitHub/drone-image-analysis/logs/fit/20210611-134403/\n",
      "['events.out.tfevents.1623490117.LAPTOP-25E4K025.9232.4050.v2']\n",
      "C:/Users/romat/Documents/GitHub/drone-image-analysis/logs/fit/20210612-122837/\n",
      "['events.out.tfevents.1623618262.LAPTOP-25E4K025.5156.4050.v2']\n",
      "C:/Users/romat/Documents/GitHub/drone-image-analysis/logs/fit/20210614-000422/\n",
      "['events.out.tfevents.1623655262.LAPTOP-25E4K025.8868.8773.v2']\n",
      "C:/Users/romat/Documents/GitHub/drone-image-analysis/logs/fit/20210614-102102/\n",
      "['events.out.tfevents.1623680520.LAPTOP-25E4K025.12660.4050.v2']\n",
      "C:/Users/romat/Documents/GitHub/drone-image-analysis/logs/fit/20210614-172200/\n",
      "['events.out.tfevents.1623750419.LAPTOP-25E4K025.15180.1684714.v2']\n",
      "C:/Users/romat/Documents/GitHub/drone-image-analysis/logs/fit/20210615-124659/\n",
      "['events.out.tfevents.1623750957.LAPTOP-25E4K025.7968.4050.v2']\n",
      "C:/Users/romat/Documents/GitHub/drone-image-analysis/logs/fit/20210615-125557/\n",
      "['events.out.tfevents.1623762980.LAPTOP-25E4K025.7096.4050.v2']\n",
      "C:/Users/romat/Documents/GitHub/drone-image-analysis/logs/fit/20210615-161620/\n",
      "['events.out.tfevents.1623765391.LAPTOP-25E4K025.12120.4050.v2']\n",
      "C:/Users/romat/Documents/GitHub/drone-image-analysis/logs/fit/20210615-165631/\n",
      "['events.out.tfevents.1623827167.LAPTOP-25E4K025.3364.217661.v2']\n",
      "C:/Users/romat/Documents/GitHub/drone-image-analysis/logs/fit/20210616-100607/\n",
      "['events.out.tfevents.1623840896.LAPTOP-25E4K025.15012.3547.v2']\n",
      "C:/Users/romat/Documents/GitHub/drone-image-analysis/logs/fit/20210616-135456/\n",
      "['events.out.tfevents.1623843533.LAPTOP-25E4K025.4140.3484.v2']\n",
      "C:/Users/romat/Documents/GitHub/drone-image-analysis/logs/fit/20210616-143853/\n",
      "['events.out.tfevents.1623852975.LAPTOP-25E4K025.13892.3476.v2']\n",
      "C:/Users/romat/Documents/GitHub/drone-image-analysis/logs/fit/20210616-171615/\n",
      "['events.out.tfevents.1623916682.LAPTOP-25E4K025.3204.4051.v2']\n",
      "C:/Users/romat/Documents/GitHub/drone-image-analysis/logs/fit/20210617-105802/\n",
      "['events.out.tfevents.1623917423.LAPTOP-25E4K025.13556.3571.v2']\n",
      "C:/Users/romat/Documents/GitHub/drone-image-analysis/logs/fit/20210617-111023/\n",
      "['events.out.tfevents.1623918891.LAPTOP-25E4K025.13284.3571.v2']\n",
      "C:/Users/romat/Documents/GitHub/drone-image-analysis/logs/fit/20210617-113451/\n",
      "['events.out.tfevents.1623921865.LAPTOP-25E4K025.13904.3571.v2']\n",
      "C:/Users/romat/Documents/GitHub/drone-image-analysis/logs/fit/20210617-122425/\n",
      "['events.out.tfevents.1623923053.LAPTOP-25E4K025.10872.3571.v2']\n",
      "C:/Users/romat/Documents/GitHub/drone-image-analysis/logs/fit/20210617-124413/\n",
      "['events.out.tfevents.1623999439.LAPTOP-25E4K025.5700.3571.v2']\n",
      "C:/Users/romat/Documents/GitHub/drone-image-analysis/logs/fit/20210618-095719/\n",
      "['events.out.tfevents.1624254119.LAPTOP-25E4K025.1808.3596.v2']\n",
      "C:/Users/romat/Documents/GitHub/drone-image-analysis/logs/fit/20210621-084159/\n",
      "['events.out.tfevents.1624254295.LAPTOP-25E4K025.820.3596.v2']\n",
      "C:/Users/romat/Documents/GitHub/drone-image-analysis/logs/fit/20210621-084455/\n"
     ]
    }
   ],
   "source": [
    "for file in os.listdir(location):\n",
    "  print(os.listdir(location + file + \"/\"))\n",
    "  print(location + file + \"/\")"
   ]
  },
  {
   "cell_type": "code",
   "execution_count": 26,
   "id": "4f1a619f",
   "metadata": {},
   "outputs": [
    {
     "ename": "FileNotFoundError",
     "evalue": "[WinError 2] The system cannot find the file specified: 'C:/Users/romat/Documents/GitHub/drone-image-analysis/logs/fit/20210621-084455/events.out.tfevents.1623055328.LAPTOP-25E4K025.2548.3236.v2'",
     "output_type": "error",
     "traceback": [
      "\u001b[1;31m---------------------------------------------------------------------------\u001b[0m",
      "\u001b[1;31mFileNotFoundError\u001b[0m                         Traceback (most recent call last)",
      "\u001b[1;32m<ipython-input-26-b791f14ca7a6>\u001b[0m in \u001b[0;36m<module>\u001b[1;34m\u001b[0m\n\u001b[1;32m----> 1\u001b[1;33m \u001b[0mprint\u001b[0m\u001b[1;33m(\u001b[0m\u001b[0mos\u001b[0m\u001b[1;33m.\u001b[0m\u001b[0mpath\u001b[0m\u001b[1;33m.\u001b[0m\u001b[0mgetsize\u001b[0m\u001b[1;33m(\u001b[0m\u001b[0mlocation\u001b[0m \u001b[1;33m+\u001b[0m \u001b[0mfile\u001b[0m \u001b[1;33m+\u001b[0m \u001b[1;34m\"/\"\u001b[0m \u001b[1;33m+\u001b[0m \u001b[1;34m\"events.out.tfevents.1623055328.LAPTOP-25E4K025.2548.3236.v2\"\u001b[0m\u001b[1;33m)\u001b[0m\u001b[1;33m)\u001b[0m\u001b[1;33m\u001b[0m\u001b[1;33m\u001b[0m\u001b[0m\n\u001b[0m",
      "\u001b[1;32mC:\\ProgramData\\Miniconda3\\lib\\genericpath.py\u001b[0m in \u001b[0;36mgetsize\u001b[1;34m(filename)\u001b[0m\n\u001b[0;32m     48\u001b[0m \u001b[1;32mdef\u001b[0m \u001b[0mgetsize\u001b[0m\u001b[1;33m(\u001b[0m\u001b[0mfilename\u001b[0m\u001b[1;33m)\u001b[0m\u001b[1;33m:\u001b[0m\u001b[1;33m\u001b[0m\u001b[1;33m\u001b[0m\u001b[0m\n\u001b[0;32m     49\u001b[0m     \u001b[1;34m\"\"\"Return the size of a file, reported by os.stat().\"\"\"\u001b[0m\u001b[1;33m\u001b[0m\u001b[1;33m\u001b[0m\u001b[0m\n\u001b[1;32m---> 50\u001b[1;33m     \u001b[1;32mreturn\u001b[0m \u001b[0mos\u001b[0m\u001b[1;33m.\u001b[0m\u001b[0mstat\u001b[0m\u001b[1;33m(\u001b[0m\u001b[0mfilename\u001b[0m\u001b[1;33m)\u001b[0m\u001b[1;33m.\u001b[0m\u001b[0mst_size\u001b[0m\u001b[1;33m\u001b[0m\u001b[1;33m\u001b[0m\u001b[0m\n\u001b[0m\u001b[0;32m     51\u001b[0m \u001b[1;33m\u001b[0m\u001b[0m\n\u001b[0;32m     52\u001b[0m \u001b[1;33m\u001b[0m\u001b[0m\n",
      "\u001b[1;31mFileNotFoundError\u001b[0m: [WinError 2] The system cannot find the file specified: 'C:/Users/romat/Documents/GitHub/drone-image-analysis/logs/fit/20210621-084455/events.out.tfevents.1623055328.LAPTOP-25E4K025.2548.3236.v2'"
     ]
    }
   ],
   "source": [
    "print(os.path.getsize(location + file + \"/\" + \"events.out.tfevents.1623055328.LAPTOP-25E4K025.2548.3236.v2\"))"
   ]
  },
  {
   "cell_type": "code",
   "execution_count": null,
   "id": "efffbefd",
   "metadata": {},
   "outputs": [],
   "source": [
    "C:/Users/romat/Documents/GitHub/drone-image-analysis/logs/fit/20210607-114208/"
   ]
  }
 ],
 "metadata": {
  "kernelspec": {
   "display_name": "Python 3",
   "language": "python",
   "name": "python3"
  },
  "language_info": {
   "codemirror_mode": {
    "name": "ipython",
    "version": 3
   },
   "file_extension": ".py",
   "mimetype": "text/x-python",
   "name": "python",
   "nbconvert_exporter": "python",
   "pygments_lexer": "ipython3",
   "version": "3.7.10"
  }
 },
 "nbformat": 4,
 "nbformat_minor": 5
}
