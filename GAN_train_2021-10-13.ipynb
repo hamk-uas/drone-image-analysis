{
 "cells": [
  {
   "cell_type": "markdown",
   "id": "387c0065",
   "metadata": {},
   "source": [
    "# Train an anti-aliased U-net based GAN"
   ]
  },
  {
   "cell_type": "markdown",
   "id": "34a29f76",
   "metadata": {},
   "source": [
    "## Imports and GPU identification"
   ]
  },
  {
   "cell_type": "code",
   "execution_count": 11,
   "id": "57ce6cac",
   "metadata": {},
   "outputs": [
    {
     "name": "stdout",
     "output_type": "stream",
     "text": [
      "[name: \"/device:CPU:0\"\n",
      "device_type: \"CPU\"\n",
      "memory_limit: 268435456\n",
      "locality {\n",
      "}\n",
      "incarnation: 18222937274812928873\n",
      ", name: \"/device:GPU:0\"\n",
      "device_type: \"GPU\"\n",
      "memory_limit: 2258055988\n",
      "locality {\n",
      "  bus_id: 1\n",
      "  links {\n",
      "  }\n",
      "}\n",
      "incarnation: 3029699679239399846\n",
      "physical_device_desc: \"device: 0, name: Quadro T1000, pci bus id: 0000:01:00.0, compute capability: 7.5\"\n",
      "]\n"
     ]
    }
   ],
   "source": [
    "import tensorflow as tf\n",
    "import os\n",
    "from PIL import Image\n",
    "from scipy import special\n",
    "import numpy as np\n",
    "from matplotlib import pyplot as plt\n",
    "from tensorflow.python.client import device_lib\n",
    "\n",
    "print(device_lib.list_local_devices())"
   ]
  },
  {
   "cell_type": "markdown",
   "id": "f53594bd",
   "metadata": {},
   "source": [
    "## Circularly symmetric low-pass or anti-aliasing filter"
   ]
  },
  {
   "cell_type": "code",
   "execution_count": 6,
   "id": "8e996b06",
   "metadata": {},
   "outputs": [
    {
     "name": "stdout",
     "output_type": "stream",
     "text": [
      "Kernel:\n"
     ]
    },
    {
     "data": {
      "image/png": "[encoded data removed]",
      "text/plain": [
       "<Figure size 432x288 with 2 Axes>"
      ]
     },
     "metadata": {
      "needs_background": "light"
     },
     "output_type": "display_data"
    },
    {
     "name": "stdout",
     "output_type": "stream",
     "text": [
      "Frequency response:\n"
     ]
    },
    {
     "data": {
      "image/png": "[encoded data removed]",
      "text/plain": [
       "<Figure size 432x288 with 2 Axes>"
      ]
     },
     "metadata": {
      "needs_background": "light"
     },
     "output_type": "display_data"
    }
   ],
   "source": [
    "oversampling = 2  # Oversampling factor, 2 is a good choice\n",
    "aa_kernel_w = 9  # Horizontal size of the kernel, also its vertical size. Must be odd. 9 is a good choice when oversampling == 2.\n",
    "\n",
    "def circularLowpassKernel(omega_c, N):  # omega = cutoff frequency in radians (pi is max), N = horizontal size of the kernel, also its vertical size, must be odd.\n",
    "  with np.errstate(divide='ignore',invalid='ignore'):    \n",
    "      kernel = np.fromfunction(lambda x, y: omega_c*special.j1(omega_c*np.sqrt((x - (N - 1)/2)**2 + (y - (N - 1)/2)**2))/(2*np.pi*np.sqrt((x - (N - 1)/2)**2 + (y - (N - 1)/2)**2)), [N, N])\n",
    "  kernel[(N - 1)//2, (N - 1)//2] = omega_c**2/(4*np.pi)\n",
    "  return kernel \n",
    "\n",
    "def rotatedCosineWindow(N):  # N = horizontal size of the targeted kernel, also its vertical size, must be odd.\n",
    "  return np.fromfunction(lambda y, x: np.maximum(np.cos(np.pi/2*np.sqrt(((x - (N - 1)/2)/((N - 1)/2 + 1))**2 + ((y - (N - 1)/2)/((N - 1)/2 + 1))**2)), 0), [N, N])\n",
    "\n",
    "aa_kernel_cutoff_pi = circularLowpassKernel(np.pi/oversampling, aa_kernel_w)*rotatedCosineWindow(aa_kernel_w)\n",
    "\n",
    "print(\"Kernel:\")\n",
    "plt.imshow(aa_kernel_cutoff_pi, vmin=-0.25, vmax=0.25, cmap='bwr', extent=[-aa_kernel_w/2, aa_kernel_w/2, -aa_kernel_w/2, aa_kernel_w/2])\n",
    "plt.colorbar()\n",
    "plt.show()\n",
    "\n",
    "print(\"Frequency response:\")\n",
    "freq_resp = np.real(np.fft.fftshift(np.fft.fft2(np.roll(np.pad(aa_kernel_cutoff_pi, 100, mode = 'constant', constant_values = 0), shift = (-aa_kernel_w//2-99, -aa_kernel_w//2-99), axis = (0, 1)))))\n",
    "plt.imshow(freq_resp, vmin=-1.2, vmax=1.2, cmap='bwr', extent=[-np.pi, np.pi, -np.pi, np.pi])\n",
    "plt.colorbar()\n",
    "plt.show()\n",
    "\n",
    "aa_kernel_cutoff_pi = tf.repeat(tf.expand_dims(tf.constant(aa_kernel_cutoff_pi, dtype=tf.float32), 2), 3, axis=2)\n",
    "aa_kernel_cutoff_pi = tf.expand_dims(aa_kernel_cutoff_pi, -1) # (height, width, output channels, input channels)"
   ]
  },
  {
   "cell_type": "markdown",
   "id": "28c89670",
   "metadata": {},
   "source": [
    "## Load training target images and low-pass filter them\n",
    "\n",
    "Note: Do NOT use the filtered PNG images as network input, because they have been quantized. They are saved for visual inspection."
   ]
  },
  {
   "cell_type": "code",
   "execution_count": 80,
   "id": "ccebb777",
   "metadata": {},
   "outputs": [
    {
     "name": "stdout",
     "output_type": "stream",
     "text": [
      "tf.Tensor(\n",
      "[[[ 0.41344836  0.34044158 -0.31597438]\n",
      "  [ 0.5977998   0.5353658  -0.13392386]\n",
      "  [ 0.77200323  0.72515166  0.04142166]\n",
      "  ...\n",
      "  [-0.42407134 -0.37597135 -0.9104976 ]\n",
      "  [-0.21679455 -0.11880232 -0.76733476]\n",
      "  [ 0.05860353  0.19952616 -0.5706659 ]]\n",
      "\n",
      " [[ 0.3571558   0.27437386 -0.3643548 ]\n",
      "  [ 0.5534664   0.4812234  -0.16817024]\n",
      "  [ 0.7686626   0.7125561   0.04974203]\n",
      "  ...\n",
      "  [-0.45070863 -0.40749973 -0.9215083 ]\n",
      "  [-0.23750563 -0.13958687 -0.77529025]\n",
      "  [ 0.0546687   0.20746924 -0.56698865]]\n",
      "\n",
      " [[ 0.3878289   0.3032529  -0.3215757 ]\n",
      "  [ 0.5245913   0.44975474 -0.18372285]\n",
      "  [ 0.7252231   0.6646441   0.02097758]\n",
      "  ...\n",
      "  [-0.45334437 -0.41198623 -0.9215242 ]\n",
      "  [-0.23168543 -0.13079403 -0.7690359 ]\n",
      "  [ 0.07100237  0.23166008 -0.5487702 ]]\n",
      "\n",
      " ...\n",
      "\n",
      " [[ 0.10917611  0.27472493 -0.38994485]\n",
      "  [-0.07163391  0.10417531 -0.5355215 ]\n",
      "  [-0.06890263  0.11367292 -0.507158  ]\n",
      "  ...\n",
      "  [-0.48684594 -0.44471166 -0.80045855]\n",
      "  [-0.476748   -0.43517768 -0.79725456]\n",
      "  [-0.34639874 -0.3036198  -0.67731446]]\n",
      "\n",
      " [[ 0.22367737  0.3780624  -0.28191766]\n",
      "  [ 0.08912854  0.2538398  -0.38685164]\n",
      "  [ 0.11533356  0.28616092 -0.34086427]\n",
      "  ...\n",
      "  [-0.6064903  -0.56839156 -0.88101715]\n",
      "  [-0.6882163  -0.6504959  -0.9585062 ]\n",
      "  [-0.5874357  -0.5481535  -0.8634502 ]]\n",
      "\n",
      " [[ 0.3368887   0.47499067 -0.17312269]\n",
      "  [ 0.24969316  0.39919996 -0.24049583]\n",
      "  [ 0.2629312   0.42033288 -0.21324134]\n",
      "  ...\n",
      "  [-0.55453235 -0.51744384 -0.813983  ]\n",
      "  [-0.7663127  -0.7306309  -0.9980409 ]\n",
      "  [-0.7894389  -0.75326186 -1.0109893 ]]], shape=(4024, 3016, 3), dtype=float32)\n",
      "tf.Tensor(\n",
      "[[[-0.02400353  0.03305477 -0.36208305]\n",
      "  [-0.46511573 -0.38749206 -0.80806303]\n",
      "  [-0.6493159  -0.54857236 -1.0204384 ]\n",
      "  ...\n",
      "  [-0.2512856  -0.2244396  -0.72326523]\n",
      "  [ 0.00586637  0.0375396  -0.5151542 ]\n",
      "  [ 0.38917062  0.4260535  -0.16871886]]\n",
      "\n",
      " [[-0.20023984 -0.15271468 -0.5518843 ]\n",
      "  [-0.5184653  -0.46092826 -0.8619317 ]\n",
      "  [-0.69997156 -0.6216825  -1.0570748 ]\n",
      "  ...\n",
      "  [-0.10693668 -0.08422253 -0.59795064]\n",
      "  [ 0.27798426  0.30651072 -0.27591494]\n",
      "  [ 0.67329895  0.71082544  0.07066012]]\n",
      "\n",
      " [[-0.35480404 -0.30568114 -0.72766346]\n",
      "  [-0.4690104  -0.42223504 -0.8165002 ]\n",
      "  [-0.5991844  -0.54239243 -0.93936014]\n",
      "  ...\n",
      "  [ 0.05592375  0.08030722 -0.45739925]\n",
      "  [ 0.40901688  0.43953025 -0.17105894]\n",
      "  [ 0.6919576   0.7336055   0.05557791]]\n",
      "\n",
      " ...\n",
      "\n",
      " [[-0.37235224 -0.23439895 -0.7011993 ]\n",
      "  [-0.28291923 -0.14112012 -0.6232509 ]\n",
      "  [-0.06696516  0.08564682 -0.42201316]\n",
      "  ...\n",
      "  [ 0.43017587  0.44255477 -0.27892554]\n",
      "  [ 0.552345    0.5682329  -0.17235994]\n",
      "  [ 0.69455194  0.71286947 -0.0400346 ]]\n",
      "\n",
      " [[-0.489993   -0.35572886 -0.7944022 ]\n",
      "  [-0.4367697  -0.3022081  -0.74443823]\n",
      "  [-0.19754139 -0.05595835 -0.52110577]\n",
      "  ...\n",
      "  [ 0.01926653  0.01451602 -0.6043572 ]\n",
      "  [ 0.2570592   0.25609046 -0.38336244]\n",
      "  [ 0.49939376  0.5011964  -0.1510903 ]]\n",
      "\n",
      " [[-0.6018706  -0.46594992 -0.87226063]\n",
      "  [-0.6149187  -0.48191264 -0.8782959 ]\n",
      "  [-0.37278256 -0.23994295 -0.65335894]\n",
      "  ...\n",
      "  [-0.24603452 -0.269371   -0.7752869 ]\n",
      "  [-0.01008234 -0.03038597 -0.5533039 ]\n",
      "  [ 0.21195574  0.19433126 -0.33858532]]], shape=(4024, 3016, 3), dtype=float32)\n"
     ]
    }
   ],
   "source": [
    "photos_dir = \"D:/roman/source_grass_images_subset\"\n",
    "save_filtered_photos_dir = \"D:/roman/filtered_grass_images_subset\" # save folder, or None to disable saving\n",
    "\n",
    "def load_and_filter_image(filepath):\n",
    "    image = tf.io.decode_png(tf.io.read_file(filepath), channels=3, dtype=tf.dtypes.uint8)\n",
    "    image = tf.image.convert_image_dtype(image, dtype=tf.float32) * 2 - 1\n",
    "    image = tf.nn.depthwise_conv2d([image], aa_kernel_cutoff_pi, [1, 1, 1, 1], \"VALID\")[0]\n",
    "    if save_filtered_photos_dir is not None:\n",
    "        basename = tf.py_function(lambda string_tensor: os.path.basename(string_tensor.numpy()), [filepath], tf.string)\n",
    "        tf.io.write_file(save_filtered_photos_dir + \"/\" + basename, tf.io.encode_png(tf.image.convert_image_dtype((image + 1)/2, dtype=tf.dtypes.uint8, saturate=True)))\n",
    "    return image\n",
    "\n",
    "train_dataset = tf.data.Dataset.list_files(photos_dir + \"/*.png\")\n",
    "train_dataset = train_dataset.map(load_image_train, num_parallel_calls=tf.data.experimental.AUTOTUNE, deterministic=False)\n",
    "\n",
    "# Force execution:\n",
    "for image in train_dataset:\n",
    "    print(image)"
   ]
  },
  {
   "cell_type": "markdown",
   "id": "22f73bdd",
   "metadata": {},
   "source": [
    "## TODO a lot of stuff"
   ]
  },
  {
   "cell_type": "code",
   "execution_count": null,
   "id": "4127d6fb",
   "metadata": {},
   "outputs": [],
   "source": []
  }
 ],
 "metadata": {
  "kernelspec": {
   "display_name": "Python 3 (ipykernel)",
   "language": "python",
   "name": "python3"
  },
  "language_info": {
   "codemirror_mode": {
    "name": "ipython",
    "version": 3
   },
   "file_extension": ".py",
   "mimetype": "text/x-python",
   "name": "python",
   "nbconvert_exporter": "python",
   "pygments_lexer": "ipython3",
   "version": "3.9.7"
  }
 },
 "nbformat": 4,
 "nbformat_minor": 5
}
