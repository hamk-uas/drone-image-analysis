{
 "cells": [
  {
   "cell_type": "markdown",
   "id": "82041882",
   "metadata": {},
   "source": [
    "## Cropping for the experimental GAN with anti-aliasing"
   ]
  },
  {
   "cell_type": "code",
   "execution_count": 1,
   "id": "bb07e47e",
   "metadata": {},
   "outputs": [],
   "source": [
    "from PIL import Image\n",
    "import os\n",
    "import numpy as np\n",
    "import tensorflow as tf"
   ]
  },
  {
   "cell_type": "code",
   "execution_count": 2,
   "id": "b1157608",
   "metadata": {},
   "outputs": [],
   "source": [
    "imdir = \"C:/Users/romat/Desktop/somefolder\""
   ]
  },
  {
   "cell_type": "markdown",
   "id": "9a42e534",
   "metadata": {},
   "source": [
    "## Run with care! The below cell will take a long time to run, so skip it if you have the images ready"
   ]
  },
  {
   "cell_type": "code",
   "execution_count": 3,
   "id": "761b0203",
   "metadata": {},
   "outputs": [],
   "source": [
    "number = 0\n",
    "h = 163\n",
    "for image in os.listdir(imdir):\n",
    "  im = Image.open(imdir + \"/\" + str(image))\n",
    "  for rotation in range(0, 4):\n",
    "    im = im.rotate(angle = 90, expand = True)\n",
    "    imgwidth, imgheight = im.size\n",
    "    x = int(imgwidth / h)\n",
    "    y = int(imgheight / h)\n",
    "    for i in range(0, y):\n",
    "      for j in np.arange(0, x):\n",
    "        name = str(number).zfill(6)\n",
    "        im.crop((j * h, i * h, (j + 1) * h, (i + 1) * h)).save(\"C:/Users/romat/Desktop/test/\" + name + \".png\")\n",
    "        number += 1"
   ]
  },
  {
   "cell_type": "code",
   "execution_count": 4,
   "id": "9c350c47",
   "metadata": {},
   "outputs": [
    {
     "name": "stderr",
     "output_type": "stream",
     "text": [
      "C:\\Users\\romat\\AppData\\Local\\Temp/ipykernel_444/18809698.py:7: RuntimeWarning: invalid value encountered in true_divide\n",
      "  kernel = np.fromfunction(lambda x, y: omega_c*special.j1(omega_c*np.sqrt((x - (N - 1)/2)**2 + (y - (N - 1)/2)**2))/(2*np.pi*np.sqrt((x - (N - 1)/2)**2 + (y - (N - 1)/2)**2)), [N, N])\n"
     ]
    }
   ],
   "source": [
    "oversampling = 2  # Oversampling factor, 2 is a good choice\n",
    "kernelN = 9  # Horizontal size of the kernel, also its vertical size. Must be odd. 9 is a good choice when oversampling == 2.\n",
    "\n",
    "from scipy import special\n",
    "\n",
    "def circularLowpassKernel(omega_c, N):  # omega = cutoff frequency in radians (pi is max), N = horizontal size of the kernel, also its vertical size, must be odd.\n",
    "  kernel = np.fromfunction(lambda x, y: omega_c*special.j1(omega_c*np.sqrt((x - (N - 1)/2)**2 + (y - (N - 1)/2)**2))/(2*np.pi*np.sqrt((x - (N - 1)/2)**2 + (y - (N - 1)/2)**2)), [N, N])\n",
    "  kernel[(N - 1)//2, (N - 1)//2] = omega_c**2/(4*np.pi)\n",
    "  return kernel \n",
    "\n",
    "def rotatedCosineWindow(N):  # N = horizontal size of the targeted kernel, also its vertical size, must be odd.\n",
    "  return np.fromfunction(lambda y, x: np.maximum(np.cos(np.pi/2*np.sqrt(((x - (N - 1)/2)/((N - 1)/2 + 1))**2 + ((y - (N - 1)/2)/((N - 1)/2 + 1))**2)), 0), [N, N])\n",
    "\n",
    "window = rotatedCosineWindow(kernelN)\n",
    "\n",
    "kernel_cutoff_pi = circularLowpassKernel(np.pi/oversampling, kernelN)\n",
    "kernel_cutoff_minipi = circularLowpassKernel(0.95 * np.pi/oversampling, kernelN)\n",
    "\n",
    "windowedkernel_cutoff_minipi = kernel_cutoff_minipi*window\n",
    "windowedkernel_cutoff_minipi /= np.sum(windowedkernel_cutoff_minipi, axis=(0, 1)) # Normalize to sum = 1\n",
    "windowedkernel_cutoff_minipi = windowedkernel_cutoff_minipi.astype(np.float32)\n",
    "\n",
    "\n",
    "windowedkernel_cutoff_pi = kernel_cutoff_pi*window\n",
    "windowedkernel_cutoff_pi /= np.sum(windowedkernel_cutoff_pi, axis=(0, 1)) # Normalize to sum = 1\n",
    "windowedkernel_cutoff_pi = windowedkernel_cutoff_pi.astype(np.float32)"
   ]
  },
  {
   "cell_type": "code",
   "execution_count": 5,
   "id": "12b87fb4",
   "metadata": {},
   "outputs": [],
   "source": [
    "def filter_target(noise, kernel):\n",
    "  reps = tf.shape(noise)[-1]\n",
    "  channeled_kernel = tf.repeat(kernel, reps)\n",
    "  noise = tf.nn.depthwise_conv2d(noise, tf.reshape(channeled_kernel, (kernel.shape[0], kernel.shape[1], reps, 1)), [1, 1, 1, 1], padding = \"VALID\")\n",
    "  return noise"
   ]
  },
  {
   "cell_type": "code",
   "execution_count": 6,
   "id": "b21582a5",
   "metadata": {},
   "outputs": [],
   "source": [
    "number = 0\n",
    "#h1 = 78\n",
    "imdir = \"C:/Users/romat/Desktop/filtered/\"\n",
    "for image in os.listdir(\"C:/Users/romat/Desktop/test/\"):\n",
    "  im = Image.open(\"C:/Users/romat/Desktop/test/\" + str(image))\n",
    "  #im = im.resize((h1, h1))\n",
    "  im = tf.keras.preprocessing.image.img_to_array(im)\n",
    "  im = tf.expand_dims(im, axis = 0)\n",
    "  im = filter_target(im, windowedkernel_cutoff_pi)\n",
    "  name = str(number).zfill(6)\n",
    "  tf.keras.preprocessing.image.save_img((imdir + str(name) + \".png\"), im[0])\n",
    "  number += 1"
   ]
  },
  {
   "cell_type": "code",
   "execution_count": null,
   "id": "06ad35c4",
   "metadata": {},
   "outputs": [],
   "source": []
  }
 ],
 "metadata": {
  "kernelspec": {
   "display_name": "Python 3 (ipykernel)",
   "language": "python",
   "name": "python3"
  },
  "language_info": {
   "codemirror_mode": {
    "name": "ipython",
    "version": 3
   },
   "file_extension": ".py",
   "mimetype": "text/x-python",
   "name": "python",
   "nbconvert_exporter": "python",
   "pygments_lexer": "ipython3",
   "version": "3.9.7"
  }
 },
 "nbformat": 4,
 "nbformat_minor": 5
}
